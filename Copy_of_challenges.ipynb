{
  "nbformat": 4,
  "nbformat_minor": 0,
  "metadata": {
    "colab": {
      "name": "Copy of challenges.ipynb",
      "provenance": []
    },
    "kernelspec": {
      "name": "python3",
      "display_name": "Python 3"
    },
    "language_info": {
      "name": "python"
    }
  },
  "cells": [
    {
      "cell_type": "markdown",
      "metadata": {
        "id": "lIYhhx8uJi12"
      },
      "source": [
        "# Beginners' Hackathon - Python Challenges\n",
        "\n",
        "Hi everyone! Thanks for joining the CUES Intro Hackathon 2021. Please find the questions and their marks below.\n",
        "\n",
        "Unlike any other coding interviews, feel FREE to use Google, Reddit and other tools that help you solve the challenge. We are happy to see you pick up new python skills!"
      ]
    },
    {
      "cell_type": "markdown",
      "metadata": {
        "id": "QPuN3LaHJuq1"
      },
      "source": [
        "## Section 1 [Easy level]"
      ]
    },
    {
      "cell_type": "markdown",
      "metadata": {
        "id": "B4slI3O3xofo"
      },
      "source": [
        "### Q1: Taking the stairs to the Engineering Library (5pt)\n",
        "\n",
        "In a sunny day in Michaelmas term, you just finished your lecture in LT0 and just wanna take a nap in the Engineering Library. You decided to take the staircase to the Engineering Library. There are `n` steps between the ground floor to the first floor. Hard as you may try, you could only take 1 step or 2 steps at a time. The question is, in how many distinct ways can you climb to the top?\n",
        "\n",
        "Example:\n",
        "If `n == 3`, there are **three** ways to climb to the top.\n",
        "1. 1 step + 1 step + 1 step\n",
        "2. 1 step + 2 steps\n",
        "3. 2 steps + 1 step\n",
        "\n",
        "Hint: Write the first few numbers and see if you can find a pattern? Have you heard of the Fibonacci sequence?\n",
        "\n",
        "Write a function to calculate the number of possible ways for `n` steps of staircase."
      ]
    },
    {
      "cell_type": "code",
      "metadata": {
        "id": "7yqxFcYM9iKU"
      },
      "source": [
        "def stair_case(n):\n",
        "  return 0"
      ],
      "execution_count": null,
      "outputs": []
    },
    {
      "cell_type": "markdown",
      "metadata": {
        "id": "ao8jBwzi0mlF"
      },
      "source": [
        "### Q2: Giving away coupons (5pt)\n",
        "\n",
        "After a social event, the CUES events team plans to give away coupons to the game winners. There are two winners: first prize and second prize. CUES prepared **even** number of coupons from different shops. We assign the coupons equally to them but want to maximise the **types** of coupon the first prize winner can get. Given the list of coupons with their shop ID, can you write a function to figure out how many coupons can the first prize winnder get?\n",
        "\n",
        "Example 1: \n",
        "\n",
        "Coupon list: `[1,1,1,2]`. There are four coupons, we can assign `[1,2]` to the first prize winner so they can get more types of coupons. So the programme returns `2`."
      ]
    },
    {
      "cell_type": "code",
      "metadata": {
        "id": "lcK5KIRBdul8"
      },
      "source": [
        ""
      ],
      "execution_count": null,
      "outputs": []
    },
    {
      "cell_type": "markdown",
      "metadata": {
        "id": "IDOQvE7WeBlg"
      },
      "source": [
        "### Q3: Pascal's triangle (5pt)\n",
        "\n",
        "Given an integer `n`, return the first `n` Rows of Pascal's triangle.\n",
        "\n",
        "In Pascal's triangle, each number is the sum of the two numbers directly above it as shown:\n",
        "\n",
        "```\n",
        "    1\n",
        "   1 1\n",
        "  1 2 1\n",
        " 1 3 3 1\n",
        "1 4 6 4 1\n",
        "```\n",
        "The output should be \n",
        "`[[1],[1,1],[1,2,1],[1,3,3,1],[1,4,6,4,1]]` for `n = 5`."
      ]
    },
    {
      "cell_type": "markdown",
      "metadata": {
        "id": "xU58rzfkel84"
      },
      "source": [
        "### Q4: CUES Cipher (5pt)\n",
        "\n",
        "The caesar cipher substitutes one character with another. To determine if one word has been encripted, can you dertermine first if two words are isomorphic.\n",
        "\n",
        "Two strings `s` and `t` are isomorphic if the characters in `s` can be replaced to get `t`.\n",
        "\n",
        "Example:\n",
        "```\n",
        "Input: s = \"egg\", t = \"add\"\n",
        "Output: true\n",
        "```\n",
        "```\n",
        "Input: s = \"paper\", t = \"title\"\n",
        "Output: true\n",
        "```\n",
        "```\n",
        "Input: s = \"foo\", t = \"bar\"\n",
        "Output: false\n",
        "```"
      ]
    },
    {
      "cell_type": "markdown",
      "metadata": {
        "id": "fyZtIzOtg0Cz"
      },
      "source": [
        "### Q5: Sort a list (10pt for 3 ways with intuitive explanation)\n",
        "\n",
        "Can you find more than three ways to sort a list in Python? (You will have to explain how they work to our marker and pick the one you think is the most efficient.)"
      ]
    },
    {
      "cell_type": "markdown",
      "metadata": {
        "id": "JyOJX3MFEttl"
      },
      "source": [
        "### Q6: What's your number? (5pt)\n",
        "\n",
        "CUES sponsorship officer is making calls to land new sponsors for this year. Can you varify a given string `s` if it is a vaild phone number?\n",
        "\n",
        "You may assume that a valid phone number must appear in one of the following two formats: (xxx) xxx-xxxx or xxx-xxx-xxxx. (x means a digit). Any space in between is valid, for example (999) 999-9999 and \"(99 9)99 9-9 9  99\" are both valid.\n",
        "\n",
        "Hint: `re` is a quite useful library!"
      ]
    },
    {
      "cell_type": "markdown",
      "metadata": {
        "id": "rjhae-mBGt9Z"
      },
      "source": [
        "### Q7: Transpose (5pt)\n",
        "\n",
        "Can you write a function to give transpose of an 2D array? (We extend the idea of transpose to any `m x n` 2D arrays)\n",
        "\n",
        "Notes: It is also fine to use libraries!\n",
        "\n",
        "Example:\n",
        "\n",
        "```\n",
        "Input: [[1,2,3],[4,5,6],[7,8,9]]\n",
        "Output: [[1,4,7],[2,5,8],[3,6,9]]\n",
        "```\n",
        "```\n",
        "Input: [[1,2,3,4], [5,6,7,8]]\n",
        "Output: [[1,5],[2,6],[3,7],[4,8]]\n",
        "```"
      ]
    },
    {
      "cell_type": "markdown",
      "metadata": {
        "id": "oGhfE4oXqg1F"
      },
      "source": [
        "### Q8: Zen of Python (5pt)\n",
        "\n",
        "Explore the mysterious library `this` and `antigravity`.\n",
        "\n",
        "Use your own computer with Python 3 installed. Try to `import` these two modules. "
      ]
    },
    {
      "cell_type": "markdown",
      "metadata": {
        "id": "SMyYg7_xJxTG"
      },
      "source": [
        "## Section 2 [Medium level]"
      ]
    },
    {
      "cell_type": "markdown",
      "metadata": {
        "id": "mN9kJczFijUo"
      },
      "source": [
        "### Q1: Prime Numbers (10pt)\n",
        "\n",
        "Given a positive integer N (N > 1), can you write a function to provide the number of prime numbers under N?\n",
        "\n",
        "Bonus: can you provide a solution if N is very large?"
      ]
    },
    {
      "cell_type": "markdown",
      "metadata": {
        "id": "wnPpOefVDguR"
      },
      "source": [
        "### Q2: How many days until birthday (10pt)\n",
        "\n",
        "Borat entrusts you to design a programme to check how many days are there before his birthday. Can you help? The input date will be in the form of \"DD/MM\" (you don't have to validate the input). You can assume today is exactly 21 November.\n",
        "\n",
        "Hint: I heard `datetime` was a very useful package."
      ]
    },
    {
      "cell_type": "markdown",
      "metadata": {
        "id": "KYiH9ckGB8jH"
      },
      "source": [
        "### Q3: Spiral, spiral, spiral (10pt)\n",
        "\n",
        "\n",
        "Can you write a function to print out a spiral square `n x n` matrix?\n",
        "\n",
        "```\n",
        "Example: n = 3\n",
        "\n",
        "1 2 3\n",
        "8 9 4\n",
        "7 6 5\n",
        "\n",
        "Example: n = 4\n",
        "\n",
        "01 02 03 04\n",
        "12 13 14 05\n",
        "11 16 15 06\n",
        "10 09 08 07\n",
        "\n",
        "(You also have to print out 0s to fill the position)\n",
        "```"
      ]
    },
    {
      "cell_type": "markdown",
      "metadata": {
        "id": "t0UrDghChdCZ"
      },
      "source": [
        "### Q4: Cambridge Emails (10pt)\n",
        "\n",
        "CUES is taking registrations for the next online event. Not all the registrants used their cambridge email accounts. Now that we have a list of emails addresses stored in the csv file (`emails.csv`). Can you write a function to help separate those non-crsid email accounts.\n",
        "\n",
        "Note: the dataset was made up.\n",
        "P.S: You may want to use `pandas`"
      ]
    },
    {
      "cell_type": "markdown",
      "metadata": {
        "id": "AXmiw8_ehgMM"
      },
      "source": [
        "### Q5: Password generator (10pt)\n",
        "\n",
        "Use `random` library to create a function which will return a random password that meets the following conditions:\n",
        "- Password length must be 8.\n",
        "- Password must contain at least 1 upper case letters, 1 digit, and 1 special symbol.\n",
        "- Position of upper case, digit and special characters must not be fixed"
      ]
    },
    {
      "cell_type": "markdown",
      "metadata": {
        "id": "olydfty0h1Wa"
      },
      "source": [
        "### Q6: Word Cloud (15pt)\n",
        "\n",
        "\n",
        "Can you generate a word cloud consisting of country names by their rankings in the medal table in the Tokyo Olympic games? Be creative!\n",
        "\n",
        "Hint: You may find the `wordcloud` library very helpful! The wordcloud takes a text and analyse the frequency of the words, can you generate a text consist of the country name with the frequency being their total medal numbers?\n",
        "\n",
        "Link: https://olympics.com/en/olympic-games/tokyo-2020/medals\n",
        "\n",
        "Example of a word cloud:\n",
        "\n",
        "\n",
        "![image.png](data:image/png;base64,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)"
      ]
    },
    {
      "cell_type": "markdown",
      "metadata": {
        "id": "jtoyEEupiCxQ"
      },
      "source": [
        "### Q7 & Q8: Rona is not welcomed (20 points) \n",
        "\n",
        "CUES wanted to know the pandemic trend in Cambridge so that the events team can plan accordingly. Can you use the API provided by the UK govenment and use the matplotlib to provide a visualisation of new cases in Cambridge?\n",
        "\n",
        "Useful webpage:\n",
        "https://coronavirus.data.gov.uk/details/developers-guide/main-api\n",
        "\n",
        "Python sample code provided:\n",
        "\n"
      ]
    },
    {
      "cell_type": "code",
      "metadata": {
        "id": "HdCt0AEZnPwu"
      },
      "source": [
        "from requests import get\n",
        "from json import dumps\n",
        "\n",
        "\n",
        "ENDPOINT = \"https://api.coronavirus.data.gov.uk/v1/data\"\n",
        "AREA_TYPE = \"nation\"\n",
        "AREA_NAME = \"england\"\n",
        "\n",
        "filters = [\n",
        "    f\"areaType={ AREA_TYPE }\",\n",
        "    f\"areaName={ AREA_NAME }\"\n",
        "]\n",
        "\n",
        "structure = {\n",
        "    \"date\": \"date\",\n",
        "    \"name\": \"areaName\",\n",
        "    \"code\": \"areaCode\",\n",
        "    \"dailyCases\": \"newCasesByPublishDate\",\n",
        "    \"cumulativeCases\": \"cumCasesByPublishDate\",\n",
        "    \"dailyDeaths\": \"newDeaths28DaysByPublishDate\",\n",
        "    \"cumulativeDeaths\": \"cumDeaths28DaysByPublishDate\"\n",
        "}\n",
        "\n",
        "api_params = {\n",
        "    \"filters\": str.join(\";\", filters),\n",
        "    \"structure\": dumps(structure, separators=(\",\", \":\"))\n",
        "}\n",
        "\n",
        "response = get(ENDPOINT, params=api_params, timeout=10)\n",
        "\n",
        "if response.status_code >= 400:\n",
        "    raise RuntimeError(f'Request failed: { response.text }')\n",
        "\n",
        "print(response.url)\n",
        "print(response.json())"
      ],
      "execution_count": null,
      "outputs": []
    },
    {
      "cell_type": "markdown",
      "metadata": {
        "id": "mpZBKHFshkSE"
      },
      "source": [
        "### Q9: UN Security Council Representation (15pt)\n",
        "\n",
        "The following website details the years in which each country has held a seat on the UN Security Council: https://www.un.org/securitycouncil/content/countries-elected-members\n",
        "\n",
        "This Wikipedia page lists the populations of each UN member: https://en.wikipedia.org/wiki/List_of_countries_by_population_(United_Nations)\n",
        "\n",
        "Accepting the above links as the only inputs, output the composition of the Security Council for every year since 1946, as well as the ratio of each member’s individual population to the total population represented by the Security Council that year (as a percentage). Using the given 2019 population figures from the Wikipedia page is fine (i.e. ignore population changes). Don’t forget the Permanent Members!"
      ]
    },
    {
      "cell_type": "markdown",
      "metadata": {
        "id": "m4NgJ5eVJzy4"
      },
      "source": [
        "## Section 3 [Applications]"
      ]
    },
    {
      "cell_type": "markdown",
      "metadata": {
        "id": "Z0ihQjiCL2et"
      },
      "source": [
        "### Sudoku game PlayStation\n",
        "\n",
        "In classic sudoku, the objective is to fill a **9×9** grid with digits so that **each column, each row, and each of the nine 3×3 subgrids** that compose the grid (also called \"boxes\", \"blocks\", or \"regions\") contains **all** of the digits from 1 to 9. The puzzle setter provides a partially completed grid, which for a well-posed puzzle has a single solution.\n",
        "\n",
        "In this challenge, you will build a python sudoku game platform."
      ]
    },
    {
      "cell_type": "code",
      "metadata": {
        "id": "wqbGcf5tNMC7"
      },
      "source": [
        "sudoku_set = [[5,3,_,_,7,_,_,_,_],\n",
        "              [6,_,_,1,9,5,_,_,_],\n",
        "              [_,9,8,_,_,_,_,6,_],\n",
        "              [8,_,_,_,6,_,_,_,3],\n",
        "              [4,_,_,8,_,3,_,_,1],\n",
        "              [7,_,_,_,2,_,_,_,6],\n",
        "              [_,6,_,_,_,_,2,8,_],\n",
        "              [_,_,_,4,1,9,_,_,5],\n",
        "              [_,_,_,_,8,_,_,7,9]]"
      ],
      "execution_count": null,
      "outputs": []
    },
    {
      "cell_type": "markdown",
      "metadata": {
        "id": "6eFfr7m2I9Dg"
      },
      "source": [
        "#### Q1: Validate input for a position (10pt)\n",
        "\n",
        "Can you complete the method `check_validity` that takes the position `x`, `y` and an input `num` and verifies if `num` can be put in the location `x` and `y`."
      ]
    },
    {
      "cell_type": "markdown",
      "metadata": {
        "id": "5NnAZpFfKlq9"
      },
      "source": [
        "#### Q2: Provide hints (10pt)\n",
        "\n",
        "Can you complete the method `get_hint` to provide possible output for one position `x`, `y`? Make use of the function you have written."
      ]
    },
    {
      "cell_type": "markdown",
      "metadata": {
        "id": "i1A-o6LHK1tt"
      },
      "source": [
        "#### Q3: Update game status (10pt)\n",
        "\n",
        "Can you complete the method `update_game_status` to see if the game has finished or in a dead end (i.e., none of the empty positions has available candidates)."
      ]
    },
    {
      "cell_type": "markdown",
      "metadata": {
        "id": "H6udtAQjLZDF"
      },
      "source": [
        "#### Q4: Play the game! (15pt)\n",
        "\n",
        "Can you complete method `play_game` to put together the game logic and keep the game running until the game ends? The game should be able to take inputs of x, y and num from the user and provides appropriate feedback of the given inputs."
      ]
    },
    {
      "cell_type": "code",
      "metadata": {
        "id": "-iojINWVMy6V"
      },
      "source": [
        "class sudoku():\n",
        "\n",
        "  def __init__(self, problem_set):\n",
        "    self.board_ = problem_set\n",
        "    self.steps_ = 0\n",
        "    # 0 for unfinished\n",
        "    # 1 for winning\n",
        "    # 2 for losing\n",
        "    self.status_ = 0\n",
        "    self.word_bank_ = [\"has not finished\", \"over, you won!\", \"over.\"]\n",
        "  \n",
        "  def __str__(self):\n",
        "    res = f\"Round {self.steps_}: Game {self.word_bank_[self.status_]}\\n\"\n",
        "    res += \"               y            \\n\"\n",
        "    res += \"     0 1 2   3 4 5   6 7 8  \\n\"\n",
        "    res += \"    ======================= \\n\"\n",
        "\n",
        "    for i in range(9):\n",
        "      if i == 4:\n",
        "        res += f\"x {i}|\"\n",
        "      else:\n",
        "        res += f\"  {i}|\"\n",
        "      for index, num in enumerate(self.board_[i]):\n",
        "        res += f\" {num}\" if num else \" _\"\n",
        "        if index % 3 == 2:\n",
        "          res += \" |\"\n",
        "      res += '\\n'\n",
        "      if i % 3 == 2:\n",
        "        res += \"    ----------------------- \\n\"\n",
        "\n",
        "    return res\n",
        "  \n",
        "  def check_game_finished(self):\n",
        "    # Write a function to check if the game is finished.\n",
        "    # There should be three status of the game:\n",
        "    # In progress\n",
        "    # Won (all blanks finished without breaking the rule)\n",
        "    # Failed (Rules have been broken for some positions)\n",
        "\n",
        "    return True\n",
        "\n",
        "  def update_game_status(self):\n",
        "    # Check if the game has finished\n",
        "    # If finished, then wining, because each step is valid\n",
        "\n",
        "    # Check if unfinished, if there is no available stable state there\n",
        "    # Otherwise, it is unfinished\n",
        "          \n",
        "\n",
        "  def check_validity(self, x, y, num):\n",
        "    # Write a function to check if the state is valid for a sudoku\n",
        "    # Check if input is legal\n",
        "\n",
        "    # Check if the position is empty\n",
        "\n",
        "    # Check rows\n",
        "\n",
        "    # Check column\n",
        "\n",
        "    # Check 3x3 grid\n",
        "    \n",
        "    return True\n",
        "  \n",
        "  def set_state(self, x, y, num):\n",
        "    # Write a function to set a position to a given number\n",
        "  \n",
        "  def get_hint(self, x, y):\n",
        "    # Write a function to provide a list of candidates for one position\n",
        "\n",
        "    return ret\n",
        "  \n",
        "  def solve(self):\n",
        "    # Write a function to solve the game with the above helper\n",
        "    pass\n",
        "\n",
        "  def play_game(self):\n",
        "    # Write a procesure that you can play the game until the game is over\n",
        "    pass"
      ],
      "execution_count": null,
      "outputs": []
    },
    {
      "cell_type": "code",
      "metadata": {
        "colab": {
          "base_uri": "https://localhost:8080/"
        },
        "id": "Y6BUJNX4Ocar",
        "outputId": "86632d2e-cb57-460a-c5f1-d249ddf02fcd"
      },
      "source": [
        "game = sudoku(sudoku_set)\n",
        "print(game)"
      ],
      "execution_count": null,
      "outputs": [
        {
          "output_type": "stream",
          "text": [
            "Round 0: Game has not finished\n",
            "               y            \n",
            "     0 1 2   3 4 5   6 7 8  \n",
            "    ======================= \n",
            "  0| 5 3 _ | _ 7 _ | _ _ _ |\n",
            "  1| 6 _ _ | 1 9 5 | _ _ _ |\n",
            "  2| _ 9 8 | _ _ _ | _ 6 _ |\n",
            "    ----------------------- \n",
            "  3| 8 _ _ | _ 6 _ | _ _ 3 |\n",
            "x 4| 4 _ _ | 8 _ 3 | _ _ 1 |\n",
            "  5| 7 _ _ | _ 2 _ | _ _ 6 |\n",
            "    ----------------------- \n",
            "  6| _ 6 _ | _ _ _ | 2 8 _ |\n",
            "  7| _ _ _ | 4 1 9 | _ _ 5 |\n",
            "  8| _ _ _ | _ 8 _ | _ 7 9 |\n",
            "    ----------------------- \n",
            "\n"
          ],
          "name": "stdout"
        }
      ]
    },
    {
      "cell_type": "markdown",
      "metadata": {
        "id": "Rlx0GOzFjC8B"
      },
      "source": [
        "### SHIELD Agent 101\n",
        "\n",
        "The head quarter of S.H.I.E.L.D just recieved an encrypted message from black widow about the new criminal. Bit of a short time, widow didn't get the chance to encrypt the message via an advanced method. It seems all the characters have been swapped. There must be someway to interpret it. Can you help decode the message?\n",
        "\n",
        "Message:\n",
        "\n",
        "```\n",
        "rxcm gptrykt zvktr fygxctrkpryf acataps pevsvrvyt fakvcl iuvsfuxxf. pzryk jpriuvcl p ixjexm tuxj xc rysyqvtvxc, uy zxacf uvgtysz pesy rx fabsvipry ruy txbuvtrvipryf kxby rkviht uy upf watr jpriuyf ruy ixjexm bykzxkg. btmiuvprkvtrt, ipssyf vc pr ruy gxruyk't kydaytr, fyrykgvcyf rupr ruy exm upf p zxkg xz buxrxlkpbuvi gygxkm juviu ruym ipssyf \"buxrxlkpbuvi kyzsynyt\". uy ygbsxmyf uvt bxjyk tyqykps rvgyt fakvcl uvt mxaru zxk byktxcps lpvc, gxtr cxrpesm juyc uy eyipgy p trpk dapkrykepih xz uvt uvlu tiuxxs zxxrepss rypg pzryk jpriuvcl xcy bkx zxxrepss lpgy. abxc lkpfaprvxc, uy ekvyzsm ixctvfykyf p ipkyyk pt p ikvgy zvluryk, ear xbryf vctrypf rx ey p bkxzyttvxcps ikvgvcps, juviu uy bykiyvqyf rx ey zpk gxky saikprvqy.\n",
        "\n",
        "uy ruyc eylpc p bkxlkpg xz xetykqvcl ruy zvlurvcl ryiucvdayt xz cagykxat ixtragyf uykxyt pcf qvsspvct (atvcl pkiuvqps rysyqvtvxc cyjt ekxpfiptrt). uy vcvrvpssm atyf uvt zvlurvcl thvsst rx ynyiary tyqykps taiiyttzas lkpcf spkiycvyt, ear uy upf cxr bkxbyksm pcrvivbpryf ruy fpclykt vcqxsqyf. uy fyivfyf rx aty uvt trxsyc ipbvrps rx ytrpesvtu p iycryk zxk rkpvcvcl ptbvkvcl ikvgvcpst rx rakc vcrx bxsvtuyf bkxzyttvxcpst. uvt lxps jpt rx eyixgy p tabbsvyk zxk ikvgvcps xklpcvoprvxct pkxacf ruy jxksf.\n",
        "```"
      ]
    },
    {
      "cell_type": "markdown",
      "metadata": {
        "id": "1WSPIyqkjIks"
      },
      "source": [
        "#### Letter frequency analysis (10pt)\n",
        "\n",
        "In English, with a large sample space the letter frequency always gives clues about the mapping between the new letter and the original one. Can you write a function to calculate the frequency of each letter from widow's message and fill in the table below? Let's see if it can give us some insights into the text."
      ]
    },
    {
      "cell_type": "markdown",
      "metadata": {
        "id": "X5ubA8SUjJLy"
      },
      "source": [
        "|    Letter    \t|  a  \t|  b  \t|  c  \t|  d  \t|  e  \t|  f  \t|  g  \t|  h  \t|  i  \t|  j  \t|  k  \t|  l  \t|  m  \t|\n",
        "|:------------:\t|:---:\t|:---:\t|:---:\t|:---:\t|:---:\t|:---:\t|:---:\t|:---:\t|:---:\t|:---:\t|:---:\t|:---:\t|:---:\t|\n",
        "| Frequency(%) \t| 0.0 \t| 0.0 \t| 0.0 \t| 0.0 \t| 0.0 \t| 0.0 \t| 0.0 \t| 0.0 \t| 0.0 \t| 0.0 \t| 0.0 \t| 0.0 \t| 0.0 \t|"
      ]
    },
    {
      "cell_type": "markdown",
      "metadata": {
        "id": "z-9HoEVYjMgX"
      },
      "source": [
        "|    Letter    \t|  n  \t|  o  \t|  p  \t|  q  \t|  r  \t|  s  \t|  t  \t|  u  \t|  v  \t|  w  \t|  x  \t|  y  \t|  z  \t|\n",
        "|:------------:\t|:---:\t|:---:\t|:---:\t|:---:\t|:---:\t|:---:\t|:---:\t|:---:\t|:---:\t|:---:\t|:---:\t|:---:\t|:---:\t|\n",
        "| Frequency(%) \t| 0.0 \t| 0.0 \t| 0.0 \t| 0.0 \t| 0.0 \t| 0.0 \t| 0.0 \t| 0.0 \t| 0.0 \t| 0.0 \t| 0.0 \t| 0.0 \t| 0.0 \t|"
      ]
    },
    {
      "cell_type": "code",
      "metadata": {
        "id": "Aswtc1noji3m"
      },
      "source": [
        "def letter_frequency_analysis(text):\n",
        "    \n",
        "    # Put your code here\n",
        "    # Put your code here\n",
        "    \n",
        "    return None"
      ],
      "execution_count": null,
      "outputs": []
    },
    {
      "cell_type": "markdown",
      "metadata": {
        "id": "csQnzLRgjPdL"
      },
      "source": [
        "#### Reference Table (10pt)\n",
        "\n",
        "Great! If only we could have a frequency table for normal English texts (`reference_texts.txt`). Now that you have this function done, can you get some long paragraph from the internet and make a table for the normal texts? \n",
        "\n",
        "P.S: remember to convert it into lower cases before your analysis!"
      ]
    },
    {
      "cell_type": "code",
      "metadata": {
        "id": "K8zE3dFljm3j"
      },
      "source": [
        "def read_file(path):\n",
        "\n",
        "    # Put your code here\n",
        "    # Put your code here\n",
        "    \n",
        "    return \"\""
      ],
      "execution_count": null,
      "outputs": []
    },
    {
      "cell_type": "markdown",
      "metadata": {
        "id": "24eiYADrjSa0"
      },
      "source": [
        "#### Good clues always lead to another clue (20pt)\n",
        "\n",
        "Compare the two tables, can you give a wild guess for **5 mapping pairs**? Widow always says, Good clues always lead to another clue. Of course, we need to substitute back to see if they make sense. Perhaps we will discover more after that.\n",
        "\n",
        "Just one more thing, to avoid confusion between the encoded letters and decoded letters, we'd better use the **capital** letter for the former and **lower** letter for the latter.We can create a `dictionary` to store these mappings, what do you say? \n",
        "\n",
        "Hint: Create a new string everytime you decode in case something went wrong."
      ]
    },
    {
      "cell_type": "code",
      "metadata": {
        "id": "T_UdRjukjqF0"
      },
      "source": [
        "code_table = {'A': None, 'B': None, 'C': None, 'D': None, 'E':None, 'F':None, 'G':None,\n",
        "              'H': None, 'I': None, 'J': None, 'K': None, 'L':None, 'M':None, 'N':None,\n",
        "              'O': None, 'P': None, 'Q': None, 'R': None, 'S':None, 'T':None, 'U':None,\n",
        "              'V': None, 'W': None, 'X': None, 'Y': None, 'Z':None}\n",
        "\n",
        "def translate(text, code_table):\n",
        "    \n",
        "    # Convert the text to captical first\n",
        "    text = text.upper()\n",
        "    \n",
        "    # Put your code here\n",
        "    # Put your code here\n",
        "    # Put your code here\n",
        "    \n",
        "    return text"
      ],
      "execution_count": null,
      "outputs": []
    },
    {
      "cell_type": "markdown",
      "metadata": {
        "id": "Bu555RCyjVru"
      },
      "source": [
        "#### Nailed it (20pt)\n",
        "Try a few guesses until you get 8 of the letters guessed. Here are some tips you may consider:\n",
        "\n",
        "- Consider the next most frequent letter in the statistics vs. that in the encrypted message.\n",
        "- In most cases, 1-letter word should be either `a` or `i`.\n",
        "- In most cases, 1-letter after the apostrophe should be either `s` or `d`.\n",
        "- Partially guessed short words of 2 or 3 letters gives a great hint of what the remaining letters are.\n",
        "- Widow was using American spelling: \"...zation\" instead of \"...sation\".\n",
        "\n",
        "Repeat the process untill you complete the decoding or you cannot continue. Can you put down your discoveries in the table below. \n",
        "\n",
        "What is the confidential information about?"
      ]
    },
    {
      "cell_type": "markdown",
      "metadata": {
        "id": "rkYIjtmDjaLP"
      },
      "source": [
        "|    Letter    \t|  a  \t|  b  \t|  c  \t|  d  \t|  e  \t|  f  \t|  g  \t|  h  \t|  i  \t|  j  \t|  k  \t|  l  \t|  m  \t|  n  \t|o  \t|  p  \t|  q  \t|  r  \t|  s  \t|  t  \t|  u  \t|  v  \t|  w  \t|  x  \t|  y  \t|  z  \t|\n",
        "|:------------:\t|:---:\t|:---:\t|:---:\t|:---:\t|:---:\t|:---:\t|:---:\t|:---:\t|:---:\t|:---:\t|:---:\t|:---:\t|:---:\t| :---:\t|:---:\t|:---:\t|:---:\t|:---:\t|:---:\t|:---:\t|:---:\t|:---:\t|:---:\t|:---:\t|:---:\t|:---:\t|\n",
        "| Stubstitute \t|  \t|  \t|  \t|  \t|  \t|  \t|  \t|  \t|  \t|  \t|  \t|  \t|  \t| \t|  \t|  \t|  \t|  \t|  \t|  \t|  \t|  \t|  \t|  \t|  \t|  \t|"
      ]
    },
    {
      "cell_type": "markdown",
      "metadata": {
        "id": "Hxo1DlrOjaoa"
      },
      "source": [
        "#### Widow, you can do better (Bonus 10pt)\n",
        "\n",
        "Letter E is the most occurring letter in English text. One of our agents proposes to substitute letter E by two different letter randomly, so that the effectiveness of letter frequency analysis is reduced. So for example, if the substitution for letter a to e is:\n",
        "\n",
        "|    Letter    \t|  a  \t|  b  \t|  c  \t|  d  \t|  e  \t|\n",
        "|:------------:\t|:---:\t|:---:\t|:---:\t|:---:\t|:---:\t|\n",
        "|  Substitute \t|  x \t|  a \t|  t \t|  m \t|  r/k \t|\n",
        "\n",
        "The word **decade** can then be encrypted as **mrtxmr**, **mrtxmk**, **mktxmr** or **mktxmk**. However since two letter is used to encrypt one letter, we can only encrypt 25 different letters. \n",
        "\n",
        "New agent, can you suggest one way to resolve this so that we can encrypt all 26 English letters. Illustrate your idea by generating an arbitrary substitution table for letter a to z."
      ]
    },
    {
      "cell_type": "markdown",
      "metadata": {
        "id": "ZtPc8Fs8jfU2"
      },
      "source": [
        "|    Letter    \t|  a  \t|  b  \t|  c  \t|  d  \t|  e  \t|  f  \t|  g  \t|  h  \t|  i  \t|  j  \t|  k  \t|  l  \t|  m  \t|  n  \t|o  \t|  p  \t|  q  \t|  r  \t|  s  \t|  t  \t|  u  \t|  v  \t|  w  \t|  x  \t|  y  \t|  z  \t|\n",
        "|:------------:\t|:---:\t|:---:\t|:---:\t|:---:\t|:---:\t|:---:\t|:---:\t|:---:\t|:---:\t|:---:\t|:---:\t|:---:\t|:---:\t| :---:\t|:---:\t|:---:\t|:---:\t|:---:\t|:---:\t|:---:\t|:---:\t|:---:\t|:---:\t|:---:\t|:---:\t|:---:\t|\n",
        "| Stubstitute \t|  \t|  \t|  \t|  \t|  \t|  \t|  \t|  \t|  \t|  \t|  \t|  \t|  \t| \t|  \t|  \t|  \t|  \t|  \t|  \t|  \t|  \t|  \t|  \t|  \t|  \t|"
      ]
    }
  ]
}